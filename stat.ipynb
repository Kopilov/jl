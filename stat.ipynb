{
 "cells": [
  {
   "cell_type": "code",
   "execution_count": null,
   "id": "4a280f0c-bdfc-4cdd-81f0-67ba2d24cf91",
   "metadata": {},
   "outputs": [],
   "source": [
    "USE {\n",
    "    dependencies {\n",
    "        implementation(\"org.jetbrains.kotlinx:dataframe:0.13.1\")\n",
    "    }\n",
    "}\n"
   ]
  },
  {
   "cell_type": "code",
   "execution_count": null,
   "id": "6eaa161b-0ecd-4d60-b7bf-3fab43f18aa4",
   "metadata": {},
   "outputs": [],
   "source": [
    "import org.jetbrains.kotlinx.dataframe.*\n",
    "import org.jetbrains.kotlinx.dataframe.api.*\n",
    "import org.jetbrains.kotlinx.dataframe.io.*\n",
    "\n",
    "import java.io.ByteArrayInputStream\n",
    "import java.io.ByteArrayOutputStream\n"
   ]
  },
  {
   "cell_type": "code",
   "execution_count": null,
   "id": "2f7c910e-4357-40cf-8717-9178f42b51ba",
   "metadata": {},
   "outputs": [],
   "source": [
    "val perl = ProcessBuilder(listOf(\"stat.pl\", \"--xlsx\", \"transactions.xlsx\")).start()\n",
    "\n",
    "val outputStream = ByteArrayOutputStream()\n",
    "perl.inputStream.copyTo(outputStream)\n",
    "perl.waitFor()\n",
    "println(perl.exitValue())\n",
    "\n",
    "val stat = DataFrame.readCSV(ByteArrayInputStream(outputStream.toByteArray()), parserOptions = ParserOptions(nullStrings = setOf(\"-\")))\n",
    "stat.writeExcel(File(\"stat.xlsx\"), sheetName = \"data\", keepFile = true)\n",
    "stat\n"
   ]
  }
 ],
 "metadata": {
  "kernelspec": {
   "display_name": "Kotlin",
   "language": "kotlin",
   "name": "kotlin"
  },
  "language_info": {
   "codemirror_mode": "text/x-kotlin",
   "file_extension": ".kt",
   "mimetype": "text/x-kotlin",
   "name": "kotlin",
   "nbconvert_exporter": "",
   "pygments_lexer": "kotlin",
   "version": "1.9.10"
  }
 },
 "nbformat": 4,
 "nbformat_minor": 5
}
