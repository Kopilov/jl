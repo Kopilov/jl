{
 "cells": [
  {
   "cell_type": "code",
   "execution_count": null,
   "id": "4a280f0c-bdfc-4cdd-81f0-67ba2d24cf91",
   "metadata": {},
   "outputs": [],
   "source": [
    "USE {\n",
    "    dependencies {\n",
    "        implementation(\"org.jetbrains.kotlinx:dataframe:0.13.1\")\n",
    "        implementation(\"org.apache.poi:poi-ooxml:5.2.5\")\n",
    "    }\n",
    "}\n"
   ]
  },
  {
   "cell_type": "code",
   "execution_count": null,
   "id": "6eaa161b-0ecd-4d60-b7bf-3fab43f18aa4",
   "metadata": {},
   "outputs": [],
   "source": [
    "import org.jetbrains.kotlinx.dataframe.*\n",
    "import org.jetbrains.kotlinx.dataframe.api.*\n",
    "import org.jetbrains.kotlinx.dataframe.io.*\n",
    "import org.apache.poi.xssf.usermodel.XSSFWorkbook\n",
    "\n",
    "import java.io.ByteArrayInputStream\n",
    "import java.io.ByteArrayOutputStream\n"
   ]
  },
  {
   "cell_type": "code",
   "execution_count": null,
   "id": "2f7c910e-4357-40cf-8717-9178f42b51ba",
   "metadata": {},
   "outputs": [],
   "source": [
    "val perl = ProcessBuilder(listOf(\"stat.pl\", \"--xlsx\", \"transactions.xlsx\")).start()\n",
    "\n",
    "val outputStream = ByteArrayOutputStream()\n",
    "perl.inputStream.copyTo(outputStream)\n",
    "perl.waitFor()\n",
    "println(if (perl.exitValue() == 0) \"Stat calculated\" else \"Stat calculating error\")\n",
    "\n",
    "val stat = DataFrame.readCSV(ByteArrayInputStream(outputStream.toByteArray()), parserOptions = ParserOptions(nullStrings = setOf(\"-\")))\n",
    "stat\n"
   ]
  },
  {
   "cell_type": "code",
   "execution_count": null,
   "id": "66b7dba4-3d5f-481f-a271-3c3c0ef966ff",
   "metadata": {},
   "outputs": [],
   "source": [
    "File(\"stat.xlsx\").outputStream().use { output ->\n",
    "    File(\"statTemplate.xlsx\").inputStream().use { input ->\n",
    "        XSSFWorkbook(input).use { workbook ->\n",
    "            workbook.removeSheetAt(workbook.getSheetIndex(\"data\"))\n",
    "            stat.writeExcel(workbook, sheetName = \"data\")\n",
    "            workbook.write(output)\n",
    "        }\n",
    "    }\n",
    "}\n"
   ]
  }
 ],
 "metadata": {
  "kernelspec": {
   "display_name": "Kotlin",
   "language": "kotlin",
   "name": "kotlin"
  },
  "language_info": {
   "codemirror_mode": "text/x-kotlin",
   "file_extension": ".kt",
   "mimetype": "text/x-kotlin",
   "name": "kotlin",
   "nbconvert_exporter": "",
   "pygments_lexer": "kotlin",
   "version": "1.9.10"
  }
 },
 "nbformat": 4,
 "nbformat_minor": 5
}
