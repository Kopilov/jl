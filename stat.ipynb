{
 "cells": [
  {
   "cell_type": "code",
   "execution_count": null,
   "id": "6eaa161b-0ecd-4d60-b7bf-3fab43f18aa4",
   "metadata": {},
   "outputs": [],
   "source": [
    "val p = ProcessBuilder(listOf(\"stat.pl\", \"--xlsx\", \"transactions.xlsx\")).start()\n",
    "p.inputStream.copyTo(System.out)\n",
    "p.waitFor()\n",
    "println(p.exitValue())"
   ]
  }
 ],
 "metadata": {
  "kernelspec": {
   "display_name": "Kotlin",
   "language": "kotlin",
   "name": "kotlin"
  },
  "language_info": {
   "codemirror_mode": "text/x-kotlin",
   "file_extension": ".kt",
   "mimetype": "text/x-kotlin",
   "name": "kotlin",
   "nbconvert_exporter": "",
   "pygments_lexer": "kotlin",
   "version": "1.9.10"
  }
 },
 "nbformat": 4,
 "nbformat_minor": 5
}
